{
 "cells": [
  {
   "cell_type": "code",
   "execution_count": 22,
   "id": "13e0b172-3b14-438a-b71a-ddff659c5c0c",
   "metadata": {},
   "outputs": [],
   "source": [
    "import pandas as pd\n",
    "from sklearn.model_selection import train_test_split\n",
    "from sklearn.ensemble import RandomForestClassifier\n",
    "import pickle\n",
    "import logging"
   ]
  },
  {
   "cell_type": "code",
   "execution_count": 24,
   "id": "9a354449-0ae5-45e4-9230-2950c89d271b",
   "metadata": {},
   "outputs": [],
   "source": [
    "\n",
    "\n",
    "# Setup logging for debugging\n",
    "logging.basicConfig(level=logging.DEBUG)\n",
    "\n",
    "# Load the wine dataset\n",
    "wine_dataset = pd.read_csv('winequality-red.csv')\n",
    "wine_dataset.dropna(inplace=True)\n",
    "\n",
    "# Separate the features and target variable\n",
    "x = wine_dataset.drop('quality', axis=1)\n",
    "y = wine_dataset['quality']\n",
    "\n",
    "# Split the dataset into training and testing sets\n",
    "x_train, x_test, y_train, y_test = train_test_split(x, y, test_size=0.2, random_state=2)\n",
    "\n",
    "# Initialize and train the RandomForest model\n",
    "model = RandomForestClassifier()\n",
    "model.fit(x_train, y_train)\n",
    "\n",
    "# Save the model to a file using pickle\n",
    "with open('wine_quality_model.pkl', 'wb') as file:\n",
    "    pickle.dump(model, file)\n"
   ]
  },
  {
   "cell_type": "code",
   "execution_count": null,
   "id": "1284f0c8-4e4a-43b9-ace1-15d96c3f614a",
   "metadata": {},
   "outputs": [],
   "source": []
  }
 ],
 "metadata": {
  "kernelspec": {
   "display_name": "Python 3 (ipykernel)",
   "language": "python",
   "name": "python3"
  },
  "language_info": {
   "codemirror_mode": {
    "name": "ipython",
    "version": 3
   },
   "file_extension": ".py",
   "mimetype": "text/x-python",
   "name": "python",
   "nbconvert_exporter": "python",
   "pygments_lexer": "ipython3",
   "version": "3.12.4"
  }
 },
 "nbformat": 4,
 "nbformat_minor": 5
}
