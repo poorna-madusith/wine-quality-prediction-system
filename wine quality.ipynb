{
 "cells": [
  {
   "cell_type": "code",
   "execution_count": 1,
   "id": "13e0b172-3b14-438a-b71a-ddff659c5c0c",
   "metadata": {},
   "outputs": [],
   "source": [
    "import numpy as np\n",
    "import pandas as pd\n",
    "from sklearn.model_selection import train_test_split\n",
    "from sklearn.ensemble import RandomForestClassifier"
   ]
  },
  {
   "cell_type": "code",
   "execution_count": null,
   "id": "9a354449-0ae5-45e4-9230-2950c89d271b",
   "metadata": {},
   "outputs": [
    {
     "name": "stdout",
     "output_type": "stream",
     "text": [
      "Enter values for the following wine features:\n"
     ]
    }
   ],
   "source": [
    "\n",
    "# Load the wine dataset\n",
    "wine_dataset = pd.read_csv('winequality-red.csv')\n",
    "\n",
    "# Drop any missing values\n",
    "wine_dataset.dropna(inplace=True)\n",
    "\n",
    "# Separate the features and target variable\n",
    "x = wine_dataset.drop('quality', axis=1)\n",
    "y = wine_dataset['quality']\n",
    "\n",
    "# Split the dataset into training and testing sets\n",
    "x_train, x_test, y_train, y_test = train_test_split(x, y, test_size=0.2, random_state=2)\n",
    "\n",
    "# Initialize and train the RandomForest model\n",
    "model = RandomForestClassifier()\n",
    "model.fit(x_train, y_train)\n",
    "\n",
    "def get_wine_quality_prediction():\n",
    "    print(\"Enter values for the following wine features:\")\n",
    "    \n",
    "    fixed_acidity = float(input(\"Fixed Acidity: \"))\n",
    "    volatile_acidity = float(input(\"Volatile Acidity: \"))\n",
    "    citric_acid = float(input(\"Citric Acid: \"))\n",
    "    residual_sugar = float(input(\"Residual Sugar: \"))\n",
    "    chlorides = float(input(\"Chlorides: \"))\n",
    "    free_sulfur_dioxide = float(input(\"Free Sulfur Dioxide: \"))\n",
    "    total_sulfur_dioxide = float(input(\"Total Sulfur Dioxide: \"))\n",
    "    density = float(input(\"Density: \"))\n",
    "    pH = float(input(\"pH: \"))\n",
    "    sulphates = float(input(\"Sulphates: \"))\n",
    "    alcohol = float(input(\"Alcohol: \"))\n",
    "    \n",
    "    # Prepare input data for prediction\n",
    "    input_data = (fixed_acidity, volatile_acidity, citric_acid, residual_sugar, chlorides,\n",
    "                  free_sulfur_dioxide, total_sulfur_dioxide, density, pH, sulphates, alcohol)\n",
    "    input_data_nparray = np.asarray(input_data)\n",
    "    input_data_reshaped = input_data_nparray.reshape(1, -1)\n",
    "\n",
    "   \n",
    "    prediction = model.predict(input_data_reshaped)\n",
    "\n",
    "   \n",
    "    if prediction >= 7:\n",
    "        quality_label = \"best\"\n",
    "    elif 4 <= prediction <= 6:\n",
    "        quality_label = \"good\"\n",
    "    else:\n",
    "        quality_label = \"bad\"\n",
    "\n",
    "    print(f\"\\nPredicted quality: {prediction[0]}, Label: {quality_label}\")\n",
    "\n",
    "\n",
    "get_wine_quality_prediction()\n",
    "\n",
    "\n"
   ]
  },
  {
   "cell_type": "code",
   "execution_count": null,
   "id": "1284f0c8-4e4a-43b9-ace1-15d96c3f614a",
   "metadata": {},
   "outputs": [],
   "source": []
  }
 ],
 "metadata": {
  "kernelspec": {
   "display_name": "Python 3 (ipykernel)",
   "language": "python",
   "name": "python3"
  },
  "language_info": {
   "codemirror_mode": {
    "name": "ipython",
    "version": 3
   },
   "file_extension": ".py",
   "mimetype": "text/x-python",
   "name": "python",
   "nbconvert_exporter": "python",
   "pygments_lexer": "ipython3",
   "version": "3.12.4"
  }
 },
 "nbformat": 4,
 "nbformat_minor": 5
}
