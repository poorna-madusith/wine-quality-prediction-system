{
 "cells": [
  {
   "cell_type": "code",
   "execution_count": 4,
   "id": "13e0b172-3b14-438a-b71a-ddff659c5c0c",
   "metadata": {},
   "outputs": [],
   "source": [
    "from flask import Flask, render_template, request, jsonify\n",
    "import numpy as np\n",
    "import pandas as pd\n",
    "from sklearn.ensemble import RandomForestClassifier\n",
    "from sklearn.model_selection import train_test_split\n",
    "import logging"
   ]
  },
  {
   "cell_type": "code",
   "execution_count": 1,
   "id": "9a354449-0ae5-45e4-9230-2950c89d271b",
   "metadata": {},
   "outputs": [
    {
     "ename": "NameError",
     "evalue": "name 'logging' is not defined",
     "output_type": "error",
     "traceback": [
      "\u001b[1;31m---------------------------------------------------------------------------\u001b[0m",
      "\u001b[1;31mNameError\u001b[0m                                 Traceback (most recent call last)",
      "Cell \u001b[1;32mIn[1], line 2\u001b[0m\n\u001b[0;32m      1\u001b[0m \u001b[38;5;66;03m# Setup logging for debugging\u001b[39;00m\n\u001b[1;32m----> 2\u001b[0m \u001b[43mlogging\u001b[49m\u001b[38;5;241m.\u001b[39mbasicConfig(level\u001b[38;5;241m=\u001b[39mlogging\u001b[38;5;241m.\u001b[39mDEBUG)\n\u001b[0;32m      4\u001b[0m \u001b[38;5;66;03m# Load the wine dataset\u001b[39;00m\n\u001b[0;32m      5\u001b[0m wine_dataset \u001b[38;5;241m=\u001b[39m pd\u001b[38;5;241m.\u001b[39mread_csv(\u001b[38;5;124m'\u001b[39m\u001b[38;5;124mwinequality-red.csv\u001b[39m\u001b[38;5;124m'\u001b[39m)\n",
      "\u001b[1;31mNameError\u001b[0m: name 'logging' is not defined"
     ]
    }
   ],
   "source": [
    "\n",
    "\n",
    "# Setup logging for debugging\n",
    "logging.basicConfig(level=logging.DEBUG)\n",
    "\n",
    "# Load the wine dataset\n",
    "wine_dataset = pd.read_csv('winequality-red.csv')\n",
    "wine_dataset.dropna(inplace=True)\n",
    "\n",
    "# Separate the features and target variable\n",
    "x = wine_dataset.drop('quality', axis=1)\n",
    "y = wine_dataset['quality']\n",
    "\n",
    "# Split the dataset into training and testing sets\n",
    "x_train, x_test, y_train, y_test = train_test_split(x, y, test_size=0.2, random_state=2)\n",
    "\n",
    "# Initialize and train the RandomForest model\n",
    "model = RandomForestClassifier()\n",
    "model.fit(x_train, y_train)\n",
    "\n",
    "app = Flask(__name__)\n",
    "\n",
    "@app.route('/')\n",
    "def home():\n",
    "    return render_template('index.html')\n",
    "\n",
    "@app.route('/predict', methods=['POST'])\n",
    "def predict():\n",
    "    try:\n",
    "        data = request.json\n",
    "        app.logger.debug(f\"Received data: {data}\")\n",
    "        \n",
    "        input_data = np.array([[\n",
    "            data['fixed_acidity'], data['volatile_acidity'], data['citric_acid'], \n",
    "            data['residual_sugar'], data['chlorides'], data['free_sulfur_dioxide'], \n",
    "            data['total_sulfur_dioxide'], data['density'], data['pH'], \n",
    "            data['sulphates'], data['alcohol']\n",
    "        ]])\n",
    "\n",
    "        prediction = model.predict(input_data)\n",
    "\n",
    "        app.logger.debug(f\"Prediction: {prediction}\")\n",
    "\n",
    "        if prediction >= 7:\n",
    "            quality_label = \"best\"\n",
    "        elif 4 <= prediction <= 6:\n",
    "            quality_label = \"good\"\n",
    "        else:\n",
    "            quality_label = \"bad\"\n",
    "\n",
    "        return jsonify({'quality': int(prediction[0]), 'label': quality_label})\n",
    "    except Exception as e:\n",
    "        app.logger.error(f\"Error: {e}\")\n",
    "        return jsonify({'error': str(e)})\n",
    "\n",
    "if __name__ == '__main__':\n",
    "    import os\n",
    "    if os.environ.get(\"FLASK_ENV\") != \"production\":\n",
    "        app.run(debug=True)\n"
   ]
  },
  {
   "cell_type": "code",
   "execution_count": null,
   "id": "1284f0c8-4e4a-43b9-ace1-15d96c3f614a",
   "metadata": {},
   "outputs": [],
   "source": []
  }
 ],
 "metadata": {
  "kernelspec": {
   "display_name": "Python 3 (ipykernel)",
   "language": "python",
   "name": "python3"
  },
  "language_info": {
   "codemirror_mode": {
    "name": "ipython",
    "version": 3
   },
   "file_extension": ".py",
   "mimetype": "text/x-python",
   "name": "python",
   "nbconvert_exporter": "python",
   "pygments_lexer": "ipython3",
   "version": "3.12.1"
  }
 },
 "nbformat": 4,
 "nbformat_minor": 5
}
